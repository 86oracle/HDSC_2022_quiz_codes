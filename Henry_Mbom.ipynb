{
 "cells": [
  {
   "cell_type": "code",
   "execution_count": null,
   "id": "7067df15",
   "metadata": {},
   "outputs": [],
   "source": [
    "import pandas as pd\n",
    "csv_df = pd.read_csv(\"FoodBalanceSheets_E_Africa_NOFLAG.csv\")\n",
    "csv_df.head()"
   ]
  },
  {
   "cell_type": "code",
   "execution_count": null,
   "id": "27dd1d63",
   "metadata": {},
   "outputs": [],
   "source": [
    "# Question 11\n",
    "csv_df.groupby(\"Item\")[[\"Y2014\",\"Y2017\"]].sum()     "
   ]
  },
  {
   "cell_type": "code",
   "execution_count": null,
   "id": "90de4d29",
   "metadata": {},
   "outputs": [],
   "source": [
    "# Question 12\n",
    "print(\"The mean value is : {:.3f} while the Standard deviation is:{:.3f}\".format(csv_df[\"Y2015\"].mean(),csv_df[\"Y2015\"].std()))"
   ]
  },
  {
   "cell_type": "code",
   "execution_count": null,
   "id": "21fe8a62",
   "metadata": {},
   "outputs": [],
   "source": [
    "#Question 13\n",
    "total_is_null = csv_df[\"Y2016\"].isnull().sum()\n",
    "total_not_null=csv_df[\"Y2016\"].notnull().sum()\n",
    "percent_is_null = total_is_null/(total_is_null+total_not_null) *100\n",
    "print(\"{:.2f}, {:.2f}\".format(total_is_null,percent_is_null))"
   ]
  },
  {
   "cell_type": "code",
   "execution_count": null,
   "id": "a0bddd69",
   "metadata": {},
   "outputs": [],
   "source": [
    "#Queston 15\n",
    "csv_df.groupby(\"Element\").sum().iloc[7] "
   ]
  },
  {
   "cell_type": "code",
   "execution_count": null,
   "id": "ff44c0bd",
   "metadata": {},
   "outputs": [],
   "source": [
    "#Queston 16\n",
    "csv_df.groupby(\"Element\")[\"Y2014\"].sum()"
   ]
  },
  {
   "cell_type": "code",
   "execution_count": null,
   "id": "9988f622",
   "metadata": {},
   "outputs": [],
   "source": [
    "#Queston 17\n",
    "csv_df.iloc[:,[5,11]].groupby(\"Element\").sum().sort_values(by = \"Y2018\" )"
   ]
  },
  {
   "cell_type": "code",
   "execution_count": null,
   "id": "dbeedcbe",
   "metadata": {},
   "outputs": [],
   "source": [
    "#Queston 18\n",
    "csv_df.iloc[:,[5,11]].groupby(\"Element\").sum().sort_values(by = \"Y2018\")"
   ]
  },
  {
   "cell_type": "code",
   "execution_count": null,
   "id": "43bcc8b0",
   "metadata": {},
   "outputs": [],
   "source": [
    "#Queston 20\n",
    "csv_df[\"Area\"].unique().size      "
   ]
  }
 ],
 "metadata": {
  "kernelspec": {
   "display_name": "Python 3",
   "language": "python",
   "name": "python3"
  },
  "language_info": {
   "codemirror_mode": {
    "name": "ipython",
    "version": 3
   },
   "file_extension": ".py",
   "mimetype": "text/x-python",
   "name": "python",
   "nbconvert_exporter": "python",
   "pygments_lexer": "ipython3",
   "version": "3.8.8"
  }
 },
 "nbformat": 4,
 "nbformat_minor": 5
}
